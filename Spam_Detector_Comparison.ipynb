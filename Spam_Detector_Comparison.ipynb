{
  "nbformat": 4,
  "nbformat_minor": 0,
  "metadata": {
    "colab": {
      "name": "Spam Detector.ipynb",
      "version": "0.3.2",
      "provenance": [],
      "collapsed_sections": []
    },
    "kernelspec": {
      "name": "python3",
      "display_name": "Python 3"
    }
  },
  "cells": [
    {
      "metadata": {
        "id": "6kfHMIajLmnC",
        "colab_type": "code",
        "colab": {}
      },
      "cell_type": "code",
      "source": [
        "#The purpose of this script is to compare the accuracy of Naive Bayes to that of AdaBoost to see which does better\n",
        "#Dataset is the spambase.data set from Machine Learning at UC Irvine\n",
        "#Code is by JB from jamdatajam on GitHub"
      ],
      "execution_count": 0,
      "outputs": []
    },
    {
      "metadata": {
        "id": "QS-93EWSP8lJ",
        "colab_type": "code",
        "colab": {}
      },
      "cell_type": "code",
      "source": [
        "#going to use Naive Bayes\n",
        "from sklearn.naive_bayes import MultinomialNB"
      ],
      "execution_count": 0,
      "outputs": []
    },
    {
      "metadata": {
        "id": "ZBSQluWOLz0x",
        "colab_type": "code",
        "colab": {}
      },
      "cell_type": "code",
      "source": [
        "import pandas as pd\n",
        "import numpy as np\n",
        "from google.colab import files"
      ],
      "execution_count": 0,
      "outputs": []
    },
    {
      "metadata": {
        "id": "MrSh4GTHL53I",
        "colab_type": "code",
        "colab": {}
      },
      "cell_type": "code",
      "source": [
        "#this line is only necessary if you are using collaboratory\n",
        "#data = files.upload()"
      ],
      "execution_count": 0,
      "outputs": []
    },
    {
      "metadata": {
        "id": "aBrSVW1_N0LY",
        "colab_type": "code",
        "colab": {}
      },
      "cell_type": "code",
      "source": [
        "data = pd.read_csv('spambase.data').as_matrix()"
      ],
      "execution_count": 0,
      "outputs": []
    },
    {
      "metadata": {
        "id": "cn16VvrbMWvi",
        "colab_type": "code",
        "colab": {}
      },
      "cell_type": "code",
      "source": [
        "#random shuffle data\n",
        "np.random.shuffle(data)"
      ],
      "execution_count": 0,
      "outputs": []
    },
    {
      "metadata": {
        "id": "ex_apm2QMj7J",
        "colab_type": "code",
        "colab": {
          "base_uri": "https://localhost:8080/",
          "height": 238
        },
        "outputId": "98a5a833-2231-49b1-b042-0e317c08ec4d"
      },
      "cell_type": "code",
      "source": [
        "data"
      ],
      "execution_count": 19,
      "outputs": [
        {
          "output_type": "execute_result",
          "data": {
            "text/plain": [
              "array([[0.000e+00, 0.000e+00, 0.000e+00, ..., 1.000e+00, 3.000e+01,\n",
              "        0.000e+00],\n",
              "       [4.200e-01, 4.600e-01, 3.800e-01, ..., 1.530e+02, 2.184e+03,\n",
              "        1.000e+00],\n",
              "       [1.000e-01, 0.000e+00, 1.000e-01, ..., 1.800e+01, 5.270e+02,\n",
              "        0.000e+00],\n",
              "       ...,\n",
              "       [2.600e-01, 2.600e-01, 5.200e-01, ..., 4.900e+01, 4.760e+02,\n",
              "        1.000e+00],\n",
              "       [0.000e+00, 0.000e+00, 0.000e+00, ..., 4.000e+00, 2.100e+01,\n",
              "        0.000e+00],\n",
              "       [0.000e+00, 2.300e-01, 0.000e+00, ..., 1.300e+01, 1.730e+02,\n",
              "        0.000e+00]])"
            ]
          },
          "metadata": {
            "tags": []
          },
          "execution_count": 19
        }
      ]
    },
    {
      "metadata": {
        "id": "Ot6aqQaRMoiZ",
        "colab_type": "code",
        "colab": {}
      },
      "cell_type": "code",
      "source": [
        "X = data[:, :48]\n",
        "y = data[:, -1]"
      ],
      "execution_count": 0,
      "outputs": []
    },
    {
      "metadata": {
        "id": "BrAxr-KsMv6g",
        "colab_type": "code",
        "colab": {}
      },
      "cell_type": "code",
      "source": [
        "X_train = X[:-100,]\n",
        "y_train = y[:-100,]\n",
        "X_test = X[-100:,]\n",
        "y_test = y[-100:,]"
      ],
      "execution_count": 0,
      "outputs": []
    },
    {
      "metadata": {
        "id": "VUomagdZOXMB",
        "colab_type": "code",
        "colab": {
          "base_uri": "https://localhost:8080/",
          "height": 34
        },
        "outputId": "51320aac-af29-404d-9bb0-a75d3398648d"
      },
      "cell_type": "code",
      "source": [
        "#instantiate the model\n",
        "model = MultinomialNB()\n",
        "model.fit(X_train, y_train)"
      ],
      "execution_count": 26,
      "outputs": [
        {
          "output_type": "execute_result",
          "data": {
            "text/plain": [
              "MultinomialNB(alpha=1.0, class_prior=None, fit_prior=True)"
            ]
          },
          "metadata": {
            "tags": []
          },
          "execution_count": 26
        }
      ]
    },
    {
      "metadata": {
        "id": "BK_aQ_ZxOgB4",
        "colab_type": "code",
        "colab": {
          "base_uri": "https://localhost:8080/",
          "height": 34
        },
        "outputId": "d9a62a9b-8727-4ff5-df3e-265912c19718"
      },
      "cell_type": "code",
      "source": [
        "print (\"Rate of Naive Bayes Classifier:\", model.score(X_test, y_test))"
      ],
      "execution_count": 30,
      "outputs": [
        {
          "output_type": "stream",
          "text": [
            "Rate of Naive Bayes Classifier: 0.84\n"
          ],
          "name": "stdout"
        }
      ]
    },
    {
      "metadata": {
        "id": "v9oCqgc7O3JI",
        "colab_type": "code",
        "colab": {}
      },
      "cell_type": "code",
      "source": [
        "#84% accuracy"
      ],
      "execution_count": 0,
      "outputs": []
    },
    {
      "metadata": {
        "id": "2Op0J-4lPPCZ",
        "colab_type": "code",
        "colab": {}
      },
      "cell_type": "code",
      "source": [
        "############"
      ],
      "execution_count": 0,
      "outputs": []
    },
    {
      "metadata": {
        "id": "X6Fr2LPpPSK5",
        "colab_type": "code",
        "colab": {}
      },
      "cell_type": "code",
      "source": [
        "#Now compae NAive Bayes with AdaBoost"
      ],
      "execution_count": 0,
      "outputs": []
    },
    {
      "metadata": {
        "id": "bFaKxJeyPTvx",
        "colab_type": "code",
        "colab": {}
      },
      "cell_type": "code",
      "source": [
        "#import AdaBoost\n",
        "from sklearn.ensemble import AdaBoostClassifier"
      ],
      "execution_count": 0,
      "outputs": []
    },
    {
      "metadata": {
        "id": "fEcrlbERPZch",
        "colab_type": "code",
        "colab": {
          "base_uri": "https://localhost:8080/",
          "height": 34
        },
        "outputId": "f2514b50-c9de-419e-f61a-741f8ab4c53c"
      },
      "cell_type": "code",
      "source": [
        "#build the model\n",
        "model_2 = AdaBoostClassifier()\n",
        "model_2.fit(X_train, y_train)\n",
        "print (\"Rate of AdaBoost Classifier\", model.score(X_test, y_test))"
      ],
      "execution_count": 37,
      "outputs": [
        {
          "output_type": "stream",
          "text": [
            "Rate of AdaBoost Classifier 0.84\n"
          ],
          "name": "stdout"
        }
      ]
    },
    {
      "metadata": {
        "id": "RsuKnqkoPupJ",
        "colab_type": "code",
        "colab": {}
      },
      "cell_type": "code",
      "source": [
        "#also 84%; its about the same as Naive Bayes"
      ],
      "execution_count": 0,
      "outputs": []
    }
  ]
}